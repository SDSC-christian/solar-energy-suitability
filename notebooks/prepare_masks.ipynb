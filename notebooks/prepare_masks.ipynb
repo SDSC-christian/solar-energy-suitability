{
 "cells": [
  {
   "cell_type": "markdown",
   "metadata": {},
   "source": [
    "# Prepare rooftop masks"
   ]
  },
  {
   "cell_type": "code",
   "execution_count": 1,
   "metadata": {},
   "outputs": [],
   "source": [
    "import os\n",
    "import re\n",
    "\n",
    "import numpy as np\n",
    "\n",
    "import pandas as pd\n",
    "import geopandas as gpd\n",
    "\n",
    "import rasterio.features\n",
    "import rasterio.transform\n",
    "\n",
    "from PIL import Image\n",
    "\n",
    "from tqdm import tqdm"
   ]
  },
  {
   "cell_type": "code",
   "execution_count": 2,
   "metadata": {},
   "outputs": [],
   "source": [
    "# Load the whole rooftop dataset\n",
    "path = \"../data/solkat/SOLKAT_DACH.gpkg\"\n",
    "gdf = gpd.read_file(\n",
    "    path,\n",
    "    layer=\"SOLKAT_CH_DACH\",\n",
    "    columns=[],\n",
    "    engine=\"pyogrio\",\n",
    "    use_arrow=True,\n",
    ")"
   ]
  },
  {
   "cell_type": "code",
   "execution_count": 5,
   "metadata": {},
   "outputs": [],
   "source": [
    "# List files that must be generated\n",
    "input_folder = \"../data/sample/1\"\n",
    "output_folder = \"../data/mask/1\"\n",
    "names = [name for name in os.listdir(input_folder) if name.endswith(\".jpg\")]\n",
    "pairs = []\n",
    "for name in names:\n",
    "    output_path = os.path.join(output_folder, name[:-4] + \".jpg\")\n",
    "    if not os.path.exists(output_path):\n",
    "        match = re.match(r\"swissimage-dop10_\\d+_(\\d+)\\.(\\d)-(\\d+)\\.(\\d)\", name)\n",
    "        assert match\n",
    "        i = int(match.group(1))\n",
    "        j = int(match.group(3))\n",
    "        u = int(match.group(2))\n",
    "        v = int(match.group(4))\n",
    "        pair = (i, j, u, v), output_path\n",
    "        pairs.append(pair)"
   ]
  },
  {
   "cell_type": "code",
   "execution_count": 6,
   "metadata": {},
   "outputs": [
    {
     "name": "stderr",
     "output_type": "stream",
     "text": [
      "  0%|          | 0/250 [00:00<?, ?it/s]"
     ]
    },
    {
     "name": "stderr",
     "output_type": "stream",
     "text": [
      "100%|██████████| 250/250 [37:29<00:00,  9.00s/it]\n"
     ]
    }
   ],
   "source": [
    "# Generate masks\n",
    "for (i, j, u, v), output_path in tqdm(pairs):\n",
    "    x_min = i * 1000 + u * 100\n",
    "    x_max = i * 1000 + (u + 1) * 100\n",
    "    y_min = j * 1000 + v * 100\n",
    "    y_max = j * 1000 + (v + 1) * 100\n",
    "    chunk_gdf = gdf.cx[x_min:x_max, y_min:y_max]\n",
    "    transform = rasterio.transform.from_bounds(x_min, y_min, x_max, y_max, 1000, 1000)\n",
    "    array = rasterio.features.rasterize(\n",
    "        chunk_gdf.geometry,\n",
    "        transform=transform,\n",
    "        out_shape=(1000, 1000),\n",
    "        fill=0,\n",
    "        default_value=255,\n",
    "        dtype=np.uint8,\n",
    "    )\n",
    "    image = Image.fromarray(array)\n",
    "    image.save(output_path)"
   ]
  }
 ],
 "metadata": {
  "kernelspec": {
   "display_name": "Python 3",
   "language": "python",
   "name": "python3"
  },
  "language_info": {
   "codemirror_mode": {
    "name": "ipython",
    "version": 3
   },
   "file_extension": ".py",
   "mimetype": "text/x-python",
   "name": "python",
   "nbconvert_exporter": "python",
   "pygments_lexer": "ipython3",
   "version": "3.12.7"
  }
 },
 "nbformat": 4,
 "nbformat_minor": 2
}
