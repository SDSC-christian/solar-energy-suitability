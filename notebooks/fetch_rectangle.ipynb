{
 "cells": [
  {
   "cell_type": "markdown",
   "metadata": {},
   "source": [
    "# Download tiles in rectangular area\n",
    "\n",
    "Naive image acquisition, based on a rectangular region.\n",
    "You should probably use [`fetch_uniform.ipynb`](./fetch_uniform.ipynb) instead."
   ]
  },
  {
   "cell_type": "code",
   "execution_count": 1,
   "metadata": {},
   "outputs": [],
   "source": [
    "import os\n",
    "\n",
    "import requests\n",
    "\n",
    "from tqdm import tqdm"
   ]
  },
  {
   "cell_type": "code",
   "execution_count": 2,
   "metadata": {},
   "outputs": [],
   "source": [
    "# As discussed in `explore_swissimage.ipynb`, the URL can be constructed from LV95 coordinates\n",
    "url_format = \"https://data.geo.admin.ch/ch.swisstopo.swissimage-dop10/swissimage-dop10_{year}_{i}-{j}/swissimage-dop10_{year}_{i}-{j}_0.1_2056.tif\""
   ]
  },
  {
   "cell_type": "code",
   "execution_count": 3,
   "metadata": {},
   "outputs": [
    {
     "data": {
      "text/plain": [
       "24"
      ]
     },
     "execution_count": 3,
     "metadata": {},
     "output_type": "execute_result"
    }
   ],
   "source": [
    "# Select rectangular region\n",
    "# Note: these are LV95 coordinates, divided by 1000; see `explore_swissimage.ipynb`\n",
    "year = 2023\n",
    "i_min = 2497\n",
    "i_max = 2503\n",
    "j_min = 1117\n",
    "j_max = 1121\n",
    "(i_max - i_min) * (j_max - j_min)"
   ]
  },
  {
   "cell_type": "code",
   "execution_count": 4,
   "metadata": {},
   "outputs": [],
   "source": [
    "# List files\n",
    "pairs = []\n",
    "for i in range(i_min, i_max):\n",
    "    for j in range(j_min, j_max):\n",
    "        url = url_format.format(year=year, i=i, j=j)\n",
    "        name = os.path.basename(url)\n",
    "        path = f\"../data/swissimage/{name}\"\n",
    "        if not os.path.exists(path):\n",
    "            pair = url, path\n",
    "            pairs.append(pair)"
   ]
  },
  {
   "cell_type": "code",
   "execution_count": 5,
   "metadata": {},
   "outputs": [
    {
     "name": "stderr",
     "output_type": "stream",
     "text": [
      "100%|██████████| 24/24 [01:50<00:00,  4.60s/it]\n"
     ]
    }
   ],
   "source": [
    "# Download files\n",
    "for url, path in tqdm(pairs):\n",
    "    response = requests.get(url)\n",
    "    response.raise_for_status()\n",
    "    with open(path, \"wb\") as file:\n",
    "        file.write(response.content)"
   ]
  }
 ],
 "metadata": {
  "kernelspec": {
   "display_name": "rooftop",
   "language": "python",
   "name": "python3"
  },
  "language_info": {
   "codemirror_mode": {
    "name": "ipython",
    "version": 3
   },
   "file_extension": ".py",
   "mimetype": "text/x-python",
   "name": "python",
   "nbconvert_exporter": "python",
   "pygments_lexer": "ipython3",
   "version": "3.11.8"
  }
 },
 "nbformat": 4,
 "nbformat_minor": 2
}
