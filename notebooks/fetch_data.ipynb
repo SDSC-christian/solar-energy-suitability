{
 "cells": [
  {
   "cell_type": "code",
   "execution_count": 1,
   "metadata": {},
   "outputs": [],
   "source": [
    "import pandas as pd\n",
    "import requests\n",
    "import os\n",
    "from osgeo import gdal\n",
    "from tqdm import tqdm"
   ]
  },
  {
   "cell_type": "code",
   "execution_count": 2,
   "metadata": {},
   "outputs": [],
   "source": [
    "# Parameters\n",
    "path = '../data/swissimage/ch.swisstopo.swissimage-dop10-8K9OTrP9.csv'\n",
    "\n",
    "# Specify the directory where you want to save the images\n",
    "save_directory = path[:-4]\n",
    "\n",
    "# Specify the size to split the tiff in\n",
    "tile_size_x = 1000\n",
    "tile_size_y = 1000\n"
   ]
  },
  {
   "cell_type": "code",
   "execution_count": 3,
   "metadata": {},
   "outputs": [
    {
     "data": {
      "text/plain": [
       "0    https://data.geo.admin.ch/ch.swisstopo.swissim...\n",
       "1    https://data.geo.admin.ch/ch.swisstopo.swissim...\n",
       "2    https://data.geo.admin.ch/ch.swisstopo.swissim...\n",
       "3    https://data.geo.admin.ch/ch.swisstopo.swissim...\n",
       "4    https://data.geo.admin.ch/ch.swisstopo.swissim...\n",
       "Name: 0, dtype: object"
      ]
     },
     "execution_count": 3,
     "metadata": {},
     "output_type": "execute_result"
    }
   ],
   "source": [
    "\n",
    "swiss_topo_links=pd.read_csv(path,header=None).iloc[:,0]\n",
    "swiss_topo_links.head()"
   ]
  },
  {
   "cell_type": "code",
   "execution_count": 4,
   "metadata": {},
   "outputs": [
    {
     "name": "stderr",
     "output_type": "stream",
     "text": [
      "0it [00:00, ?it/s]"
     ]
    },
    {
     "name": "stderr",
     "output_type": "stream",
     "text": [
      "2it [00:25, 12.53s/it]\n"
     ]
    }
   ],
   "source": [
    "\n",
    "if not os.path.exists(save_directory):\n",
    "    os.makedirs(save_directory)\n",
    "\n",
    "\n",
    "# Iterate over each link in the Series and download the tiff\n",
    "for idx, url in tqdm(swiss_topo_links.head(2).items()):\n",
    "    try:\n",
    "        # Send HTTP GET request to the URL\n",
    "        response = requests.get(url)\n",
    "        response.raise_for_status()  # Check for HTTP errors\n",
    "\n",
    "        # Extract the filename from the URL\n",
    "        filename = os.path.basename(url)\n",
    "        if not filename.endswith('.tiff'):\n",
    "            filename = f'image_{idx}.tiff'  # Fallback filename\n",
    "\n",
    "        # Full path where the image will be saved\n",
    "        filepath = os.path.join(save_directory, filename)\n",
    "\n",
    "        # Write the content to a file in binary mode\n",
    "        with open(filepath, 'wb') as f:\n",
    "            f.write(response.content)\n",
    "    except requests.exceptions.HTTPError as http_err:\n",
    "        print(f'HTTP error occurred while downloading {url}: {http_err}')\n"
   ]
  },
  {
   "cell_type": "code",
   "execution_count": null,
   "metadata": {},
   "outputs": [
    {
     "name": "stderr",
     "output_type": "stream",
     "text": [
      "  0%|          | 0/33 [00:00<?, ?it/s]"
     ]
    },
    {
     "name": "stdout",
     "output_type": "stream",
     "text": [
      "Splitting the big tile...\n"
     ]
    },
    {
     "name": "stderr",
     "output_type": "stream",
     "text": []
    },
    {
     "name": "stdout",
     "output_type": "stream",
     "text": [
      "Input file size is 10000, 10000\n",
      "0...10...20...30...40...50...60...70...80...90...100 - done.\n",
      "Input file size is 10000, 10000\n",
      "0...10...20...30...40...50...60...70...80...90...100 - done.\n",
      "Input file size is 10000, 10000\n",
      "0...10...20...30...40...50...60...70...80...90...100 - done.\n",
      "Input file size is 10000, 10000\n",
      "0...10...20...30...40...50...60...70...80...90...100 - done.\n",
      "Input file size is 10000, 10000\n",
      "0...10...20...30...40...50...60...70...80...90...100 - done.\n",
      "Input file size is 10000, 10000\n",
      "0...10...20...30...40...50...60...70...80...90...100 - done.\n",
      "Input file size is 10000, 10000\n",
      "0...10...20...30...40...50...60...70...80...90...100 - done.\n",
      "Input file size is 10000, 10000\n",
      "0...10...20...30...40...50...60...70...80...90...100 - done.\n",
      "Input file size is 10000, 10000\n",
      "0...10...20...30...40...50...60...70...80...90...100 - done.\n",
      "Input file size is 10000, 10000\n",
      "0...10...20...30...40...50...60"
     ]
    },
    {
     "name": "stderr",
     "output_type": "stream",
     "text": []
    },
    {
     "name": "stdout",
     "output_type": "stream",
     "text": [
      "...70...80...90...100 - done.\n",
      "Input file size is 10000, 10000\n",
      "0...10...20...30...40...50...60...70...80...90...100 - done.\n",
      "Input file size is 10000, 10000\n",
      "0...10...20...30...40...50...60...70...80...90...100 - done.\n",
      "Input file size is 10000, 10000\n",
      "0...10...20...30...40...50...60...70...80...90...100 - done.\n",
      "Input file size is 10000, 10000\n",
      "0...10...20...30...40...50...60...70...80...90...100 - done.\n",
      "Input file size is 10000, 10000\n",
      "0...10...20...30...40...50...60...70...80...90...100 - done.\n",
      "Input file size is 10000, 10000\n",
      "0...10...20...30...40...50...60...70...80...90...100 - done.\n",
      "Input file size is 10000, 10000\n",
      "0...10...20...30...40...50...60...70...80...90...100 - done.\n",
      "Input file size is 10000, 10000\n",
      "0...10...20...30...40...50...60...70...80...90...100 - done.\n",
      "Input file size is 10000, 10000\n",
      "0...10...20...30...40...50...60...70...80...90...100 - done.\n",
      "Input file size is 10000, 10000\n",
      "0...10...20...30...40...50...60...70.."
     ]
    },
    {
     "name": "stderr",
     "output_type": "stream",
     "text": []
    },
    {
     "name": "stdout",
     "output_type": "stream",
     "text": [
      ".80...90...100 - done.\n",
      "Input file size is 10000, 10000\n",
      "0...10...20...30...40...50...60...70...80...90...100 - done.\n",
      "Input file size is 10000, 10000\n",
      "0...10...20...30...40...50...60...70...80...90...100 - done.\n",
      "Input file size is 10000, 10000\n",
      "0...10...20...30...40...50...60...70...80...90...100 - done.\n",
      "Input file size is 10000, 10000\n",
      "0...10...20...30...40...50...60...70...80...90...100 - done.\n",
      "Input file size is 10000, 10000\n",
      "0...10...20...30...40...50...60...70...80...90...100 - done.\n",
      "Input file size is 10000, 10000\n",
      "0...10...20...30...40...50...60...70...80...90...100 - done.\n",
      "Input file size is 10000, 10000\n",
      "0...10...20...30...40...50...60...70...80...90...100 - done.\n",
      "Input file size is 10000, 10000\n",
      "0...10...20...30...40...50...60...70...80...90...100 - done.\n",
      "Input file size is 10000, 10000\n",
      "0...10...20...30...40...50...60...70...80...90...100 - done.\n",
      "Input file size is 10000, 10000\n",
      "0...10...20...30...40...50...60...70...80..."
     ]
    },
    {
     "name": "stderr",
     "output_type": "stream",
     "text": []
    },
    {
     "name": "stdout",
     "output_type": "stream",
     "text": [
      "90...100 - done.\n",
      "Input file size is 10000, 10000\n",
      "0...10...20...30...40...50...60...70...80...90...100 - done.\n",
      "Input file size is 10000, 10000\n",
      "0...10...20...30...40...50...60...70...80...90...100 - done.\n",
      "Input file size is 10000, 10000\n",
      "0...10...20...30...40...50...60...70...80...90...100 - done.\n",
      "Input file size is 10000, 10000\n",
      "0...10...20...30...40...50...60...70...80...90...100 - done.\n",
      "Input file size is 10000, 10000\n",
      "0...10...20...30...40...50...60...70...80...90...100 - done.\n",
      "Input file size is 10000, 10000\n",
      "0...10...20...30...40...50...60...70...80...90...100 - done.\n",
      "Input file size is 10000, 10000\n",
      "0...10...20...30...40...50...60...70...80...90...100 - done.\n",
      "Input file size is 10000, 10000\n",
      "0...10...20...30...40...50...60...70...80...90...100 - done.\n",
      "Input file size is 10000, 10000\n",
      "0...10...20...30...40...50...60...70...80...90...100 - done.\n",
      "Input file size is 10000, 10000\n",
      "0...10...20...30...40"
     ]
    },
    {
     "name": "stderr",
     "output_type": "stream",
     "text": []
    },
    {
     "name": "stdout",
     "output_type": "stream",
     "text": [
      "...50...60...70...80...90...100 - done.\n",
      "Input file size is 10000, 10000\n",
      "0...10...20...30...40...50...60...70...80...90...100 - done.\n",
      "Input file size is 10000, 10000\n",
      "0...10...20...30...40...50...60...70...80...90...100 - done.\n",
      "Input file size is 10000, 10000\n",
      "0...10...20...30...40...50...60...70...80...90...100 - done.\n",
      "Input file size is 10000, 10000\n",
      "0...10...20...30...40...50...60...70...80...90...100 - done.\n",
      "Input file size is 10000, 10000\n",
      "0...10...20...30...40...50...60...70...80...90...100 - done.\n",
      "Input file size is 10000, 10000\n",
      "0...10...20...30...40...50...60...70...80...90...100 - done.\n",
      "Input file size is 10000, 10000\n",
      "0...10...20...30...40...50...60...70...80...90...100 - done.\n",
      "Input file size is 10000, 10000\n",
      "0...10...20...30...40...50...60...70...80...90...100 - done.\n",
      "Input file size is 10000, 10000\n",
      "0...10...20...30...40...50...60...70...80...90...100 - done.\n",
      "Input file size is 10000, 10000\n",
      "0...10...20...30.."
     ]
    },
    {
     "name": "stderr",
     "output_type": "stream",
     "text": [
      "\n"
     ]
    },
    {
     "name": "stdout",
     "output_type": "stream",
     "text": [
      ".40...50...60...70...80...90...100 - done.\n"
     ]
    },
    {
     "name": "stderr",
     "output_type": "stream",
     "text": [
      " 50%|█████     | 5/10 [00:20<00:20,  4.05s/it]\u001b[A"
     ]
    },
    {
     "name": "stdout",
     "output_type": "stream",
     "text": [
      "Input file size is 10000, 10000\n",
      "0...10...20...30...40...50...60...70...80...90...100 - done.\n",
      "Input file size is 10000, 10000\n",
      "0...10...20...30...40...50...60...70...80...90...100 - done.\n",
      "Input file size is 10000, 10000\n",
      "0...10...20...30...40...50...60...70...80"
     ]
    }
   ],
   "source": [
    "if not os.path.exists(save_directory):\n",
    "    os.makedirs(save_directory)\n",
    "\n",
    "for input_filename in tqdm(os.listdir(save_directory)):\n",
    "    if not input_filename.endswith(\".tiff\"):\n",
    "        continue\n",
    "\n",
    "    input_filename_path = os.path.join(save_directory, input_filename)\n",
    "\n",
    "    ds = gdal.Open(input_filename_path)\n",
    "    band = ds.GetRasterBand(1)\n",
    "\n",
    "    # Get geoinfo\n",
    "    xsize = band.XSize\n",
    "    ysize = band.YSize\n",
    "    x0, dx, dxdy, y0, dydx, dy = ds.GetGeoTransform()\n",
    "\n",
    "    print(\"Splitting the big tile...\")\n",
    "    for i in tqdm(range(0, xsize, tile_size_x)):\n",
    "        for j in range(0, ysize, tile_size_y):\n",
    "\n",
    "            # Save the geoinfo we loose when transforming to png in the filename\n",
    "            out_path = os.path.join(save_directory, \"tiles/\", f\"{input_filename}_{x0 + dx * i}_{y0 + dy * j}.png\")\n",
    "            gdal_options= f\"-of PNG -srcwin {i}, {j}, {tile_size_x}, {tile_size_y}\"\n",
    "            com_string = f\"gdal_translate {gdal_options} {input_filename_path} {out_path}\"\n",
    "            os.system(com_string)\n",
    "            \n",
    "rm_string = \"rm \" + save_directory + \"/tiles/*.aux.xml\"\n",
    "print(\"Removing *.aux.xml files ...\")\n",
    "os.system(rm_string)"
   ]
  },
  {
   "cell_type": "code",
   "execution_count": null,
   "metadata": {},
   "outputs": [],
   "source": []
  }
 ],
 "metadata": {
  "kernelspec": {
   "display_name": ".env",
   "language": "python",
   "name": "python3"
  },
  "language_info": {
   "codemirror_mode": {
    "name": "ipython",
    "version": 3
   },
   "file_extension": ".py",
   "mimetype": "text/x-python",
   "name": "python",
   "nbconvert_exporter": "python",
   "pygments_lexer": "ipython3",
   "version": "3.11.10"
  }
 },
 "nbformat": 4,
 "nbformat_minor": 2
}
